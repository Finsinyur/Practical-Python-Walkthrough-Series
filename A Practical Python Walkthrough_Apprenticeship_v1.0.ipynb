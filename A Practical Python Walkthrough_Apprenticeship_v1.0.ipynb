{
 "cells": [
  {
   "cell_type": "markdown",
   "metadata": {},
   "source": [
    "![Cover Image](img/cover2.jpg)\n",
    "\n",
    "# Welcome to the Apprenticeship!\n",
    "\n",
    "Hello there, it's a great pleasure starting this Python journey together with you, and I hope you are excited to start coding too! Before that, here are some instruction on how to use the Notebook environment.\n",
    "\n",
    "## Notebook instructions:\n",
    "\n",
    "### Code Execution\n",
    "\n",
    "A Jupyter/ Google Colab notebook is a Web-based interactive computational environment. In a notebook environment, codes are executed cell-by-cell simply by tapping [SHIFT] + [ENTER]. \n",
    "\n",
    "\n",
    "### Markdown\n",
    "Markdowns in notebook allows one to write notes on the notebook like what you see in this cell. By double clicking this cell, you will see all the mark up scripts. Markdown follows some html formats, though there are some distinct differences (for one - headers). To activate markdown:\n",
    "- for Jupyter notebook, create new cell and change the cell type into 'markdown'\n",
    "- for Google Colab, click '+ Text'\n",
    "\n",
    "\n",
    "For more tips and tricks of using a Notebook, please refer to the following article:\n",
    "https://towardsdatascience.com/15-tips-and-tricks-for-jupyter-notebook-that-will-ease-your-coding-experience-e469207ac95c#:~:text=Jupyter%20Notebook%20can%20show%20that,Tab%20to%20view%20the%20documentation.\n",
    "<br>\n",
    "<br>\n",
    "<br>\n",
    "<center><i>Caden @ Finsinyur © 2021</i></center>\n",
    "\n",
    "---"
   ]
  },
  {
   "cell_type": "markdown",
   "metadata": {},
   "source": [
    "<a id='BTT'></a>\n",
    "# Table of Content\n",
    "<a href='#Hellow World'>1. Let's Begin with 'Hello World'</a><br>\n",
    "<a href='#Numeric'>2. Numeric Data Types and Operations</a><br>\n",
    "<a href='#Boolean'>3. Boolean Type and Operations</a><br>\n",
    "<a href='#Class and Object'>4. Recall: Class and Object</a><br>\n",
    "<a href='#String'>5. String Data Types and Operations</a><br>\n",
    "<a href='#Lists'>6. Lists and Tuples</a><br>\n",
    "<a href='#Dictionaries'>7. Dictionaries</a><br>\n",
    "<a href='#Summary1'>Summary: Data types</a><br>\n",
    "<a href='#Functions'>8. Functions</a><br>\n",
    "<a href='#Conditional'>9. Conditional Statements</a><br>\n",
    "<a href='#Iteration'>10. Iteration</a><br>\n",
    "<a href='#ConditionAndLoop'>11. The Perfect Marriage - Conditional Iterative Statements</a><br>\n",
    "<a href='#Summary2'>Summary: Functions, Conditional Statements and Iterations</a><br>"
   ]
  },
  {
   "cell_type": "markdown",
   "metadata": {},
   "source": [
    "# All Challenges\n",
    "<a href='#C1'>Challenge 1 - Printing Variables</a><br>\n",
    "<a href='#C2'>Challenge 2 - Integer divide by Integer, what does that give?</a><br>\n",
    "<a href='#C3'>Challenge 3 - More math! Brain teasers</a><br>\n",
    "<a href='#C4'>Challenge 4 - Changing string to float</a><br>\n",
    "<a href='#C5'>Challenge 5 - Empty string? True or False</a><br>\n",
    "<a href='#C6'>Challenge 6 - Logic Test!</a><br>\n",
    "<a href='#C7'>Challenge 7 - Playing with strings</a><br>\n",
    "<a href='#C8'>Challenge 8 - A list of challenges</a><br>\n",
    "<a href='#C9'>Challenge 9 - Keyword Arguments</a><br>\n",
    "<a href='#C10'>Challenge 10: Return all cases</a><br>\n",
    "<a href='#C11'>Challenge 11 - Getting my grades</a><br>\n",
    "<a href='#C12'>Challenge 12 - Vowels and Consonants</a><br>\n",
    "---"
   ]
  },
  {
   "cell_type": "markdown",
   "metadata": {},
   "source": [
    "<a id='Hello World'></a>\n",
    "# Let's Begin with 'Hello World'"
   ]
  },
  {
   "cell_type": "code",
   "execution_count": 1,
   "metadata": {},
   "outputs": [
    {
     "name": "stdout",
     "output_type": "stream",
     "text": [
      "Hello World\n"
     ]
    }
   ],
   "source": [
    "# to print something from code, use print()\n",
    "print('Hello World')"
   ]
  },
  {
   "cell_type": "code",
   "execution_count": 2,
   "metadata": {},
   "outputs": [],
   "source": [
    "# Assigning 'Hello' to a variable my_greetings\n",
    "my_greetings = 'Hello'"
   ]
  },
  {
   "cell_type": "code",
   "execution_count": 4,
   "metadata": {},
   "outputs": [
    {
     "name": "stdout",
     "output_type": "stream",
     "text": [
      "Please key in your name: Caden Lee\n"
     ]
    }
   ],
   "source": [
    "# to input something into the computer memory, use input()\n",
    "# assign input into a variable named 'user'\n",
    "user = input('Please key in your name: ')"
   ]
  },
  {
   "cell_type": "code",
   "execution_count": 5,
   "metadata": {},
   "outputs": [
    {
     "name": "stdout",
     "output_type": "stream",
     "text": [
      "Hello Caden Lee\n"
     ]
    }
   ],
   "source": [
    "# See how you can use your input to make an output\n",
    "print(my_greetings, user)"
   ]
  },
  {
   "cell_type": "markdown",
   "metadata": {},
   "source": [
    "<a id='C1'></a>\n",
    "<b>Challenge 1 - Printing Variables</b><br>\n",
    "You are given three variables below. Try, without typing the sentence but instead using those variables, to construct the following output:<br>\n",
    "\n",
    "$$\\text{'Hello [your name], how are you?'}$$"
   ]
  },
  {
   "cell_type": "code",
   "execution_count": 7,
   "metadata": {},
   "outputs": [
    {
     "name": "stdout",
     "output_type": "stream",
     "text": [
      "Hello Caden Lee , How are you?\n"
     ]
    }
   ],
   "source": [
    "# Challenge 1: Printing Variables\n",
    "var1 = 'Hello'\n",
    "var2 = user\n",
    "var3 = 'How are you?'\n",
    "\n",
    "print(var1, var2, \",\", var3) # your answer here"
   ]
  },
  {
   "cell_type": "markdown",
   "metadata": {},
   "source": [
    "Double click <b>here</b> for solution.\n",
    "\n",
    "<!--\n",
    "Solution: print(var1, var2+',', var3)\n",
    "\n",
    "Not quite the answer we expect, aite? By using commas, a whitespace is added between two variables. In this example, we need to add a 'comma' beside var2, so using concantenation '+' is the way forward. More on this later! \n",
    "-->"
   ]
  },
  {
   "cell_type": "markdown",
   "metadata": {},
   "source": [
    "<a href='#BTT'>Back to Top</a><br>\n",
    "\n",
    "<center><i>Caden @ Finsinyur © 2021</i></center>\n",
    "\n",
    "---"
   ]
  },
  {
   "cell_type": "markdown",
   "metadata": {},
   "source": [
    "<a id='Numeric'></a>\n",
    "# Numeric Data Types and Operations\n",
    "\n",
    "Integer ```int```: Numerical data with no decimal point.<br>\n",
    "Float ```float```: Numerical data with decimal.<br>\n",
    "\n",
    "Let's try it out!"
   ]
  },
  {
   "cell_type": "code",
   "execution_count": null,
   "metadata": {},
   "outputs": [],
   "source": [
    "# Integer\n",
    "x = 1\n",
    "print('value of x:',x,', type of x:',type(x))"
   ]
  },
  {
   "cell_type": "code",
   "execution_count": null,
   "metadata": {},
   "outputs": [],
   "source": [
    "# Float\n",
    "y = 2.0\n",
    "print('value of y:',y,', type of y:',type(y))"
   ]
  },
  {
   "cell_type": "markdown",
   "metadata": {},
   "source": [
    "## Basic Arithmetic Operators\n",
    "\n",
    "So we know the difference between integer and float. But how do they behave when operated together?<br>\n",
    "\n",
    "The short answer is - when operating with two numeric types, the <b>output will inherit the more \"advanced\" data type.</b> In the case between <i>integer</i> and <i>float</i>, <i>float</i> is more advanced, and therefore the output will be a <i>float</i> type."
   ]
  },
  {
   "cell_type": "code",
   "execution_count": null,
   "metadata": {},
   "outputs": [],
   "source": [
    "# Addition +\n",
    "z1 = x + y\n",
    "print('Value of the sum:',z1,', type of the sum:',type(z1))\n",
    "\n",
    "# Subtraction -\n",
    "z2 = x + y\n",
    "print('Value of the difference:',z2,', type of the difference:',type(z2))\n",
    "\n",
    "# Multiplication *\n",
    "z3 = x * y\n",
    "print('Value of the product:',z3,', type of the product:',type(z3))\n",
    "\n",
    "# Division /\n",
    "z4 = x / y\n",
    "print('Value of the division:',z4,', type of the division:',type(z4))\n"
   ]
  },
  {
   "cell_type": "markdown",
   "metadata": {},
   "source": [
    "<a id='C2'></a>\n",
    "<b>Challenge 2 - Integer divide by Integer, what does that give?</b><br>\n",
    "We now know that the output will inherit the more advanced data type.<br>\n",
    "So here's a riddle - if both ```x = 1``` and ```y = 2``` are integers, what would be the value of ```z = x / y```, and what is its type?<br>\n",
    "\n",
    "Double click <b>here</b> for solution.<br>\n",
    "<!--\n",
    "# Copy and paste this snippet, and paste it on a new cell\n",
    "x = 1\n",
    "y = 2\n",
    "z = x / y\n",
    "print('value of z:',z,', type of z:',type(z))\n",
    "-->"
   ]
  },
  {
   "cell_type": "code",
   "execution_count": null,
   "metadata": {},
   "outputs": [],
   "source": []
  },
  {
   "cell_type": "markdown",
   "metadata": {},
   "source": [
    "Is the answer quite like what you expected?"
   ]
  },
  {
   "cell_type": "markdown",
   "metadata": {},
   "source": [
    "## More Arithmetic Operators\n",
    "\n",
    "Apart from the few operators we see above, there are also other operators such as\n",
    "- Exponential ```**```\n",
    "- modulus / remainder ```%```\n",
    "- quotient ```//```\n",
    "\n",
    "Try it out!"
   ]
  },
  {
   "cell_type": "code",
   "execution_count": null,
   "metadata": {},
   "outputs": [],
   "source": [
    "a = 10\n",
    "b = 3.0\n",
    "\n",
    "# Exponential **\n",
    "print('value of exponential:',a ** b,', type of exponential:',type(a ** b))\n",
    "\n",
    "# Division /\n",
    "print('value of division:',a / b,', type of division:',type(a / b))\n",
    "\n",
    "# Remainder %\n",
    "print('value of remainder:',a % b,', type of remainder:',type(a % b))\n",
    "\n",
    "# Quotient //\n",
    "print('value of quotient:',a // b,', type of quotient:',type(a // b))"
   ]
  },
  {
   "cell_type": "markdown",
   "metadata": {},
   "source": [
    "## Hierarchy of Operation: PEMDAS\n",
    "\n",
    "When it comes to computation, there is a hierarchy which is followed. This is also known as the PEMDAS:\n",
    "- Parenthesis ```()```: whatever that is within a bracket is computed first\n",
    "- Exponential ```**```\n",
    "- Multiplication ```*``` & Division ```\\``` (also quotient ```\\\\``` and remainder ```%```)\n",
    "- Addition ```+``` & Subtraction ```-```\n",
    "\n",
    "<img src=\"img/PEMDAS.png\" alt=\"Drawing\" style=\"width: 500px;\"/>\n",
    "\n",
    "Execution will be done top-down, and if the operators are within the same level, it will be computed left-to-right.<br>\n",
    "<br>\n",
    "\n",
    "<a id='C3'></a>\n",
    "<b>Challenge 3 - More math! Brain teasers</b><br>\n",
    "Try to solve the below calculations!\n",
    "\n",
    "```a = 10.0```<br>\n",
    "```b = 3.0``` <br>\n",
    "```x = 1.0``` <br>\n",
    "```y = 2.0```"
   ]
  },
  {
   "cell_type": "markdown",
   "metadata": {},
   "source": [
    "Question 1<br>\n",
    "```y + b * a - x = ?```"
   ]
  },
  {
   "cell_type": "code",
   "execution_count": null,
   "metadata": {},
   "outputs": [],
   "source": [
    "answer1 = input('y + b * a - x = ')"
   ]
  },
  {
   "cell_type": "markdown",
   "metadata": {},
   "source": [
    "Question 2<br>\n",
    "```a + x**y * b = ?```"
   ]
  },
  {
   "cell_type": "code",
   "execution_count": null,
   "metadata": {},
   "outputs": [],
   "source": [
    "answer2 = input('a + x ** y * b = ')"
   ]
  },
  {
   "cell_type": "markdown",
   "metadata": {},
   "source": [
    "Question 3<br>\n",
    "```y + a * (x + b - a) * b = ?```"
   ]
  },
  {
   "cell_type": "code",
   "execution_count": null,
   "metadata": {},
   "outputs": [],
   "source": [
    "answer3 = input('y + a * (x + b - a) * b = ')"
   ]
  },
  {
   "cell_type": "markdown",
   "metadata": {},
   "source": [
    "Do make sure that you have executed the above three code cells and given your inputs. \n",
    "\n",
    "Double click <b>here</b> for solution.\n",
    "\n",
    "<!--\n",
    "Copy and paste the following snippet \n",
    "\n",
    "def solution_challenge1(answer1, answer2, answer3):\n",
    "    # Define variables\n",
    "    a = 10\n",
    "    b = 3\n",
    "    x = 1\n",
    "    y = 2\n",
    "\n",
    "    # Compute solutions\n",
    "    solution1 = y + b * a - x \n",
    "    solution2 = a + x ** y * b\n",
    "    solution3 = y + a * (x + b - a) * b\n",
    "\n",
    "    answers = [answer1, answer2, answer3]\n",
    "    solutions = [solution1, solution2, solution3]\n",
    "    \n",
    "    # Check solution\n",
    "    for i in range(3):\n",
    "        try:\n",
    "            print('Your answer for Q{} is: '.format(i), solutions[i] == float(answers[i]))\n",
    "        except:\n",
    "            print('Your answer given for Q{} is not in the correct format'.format(i))\n",
    "            continue\n",
    "            \n",
    "    return None\n",
    "\n",
    "solution_challenge1(answer1, answer2, answer3)\n",
    "\n",
    "-->"
   ]
  },
  {
   "cell_type": "code",
   "execution_count": null,
   "metadata": {},
   "outputs": [],
   "source": []
  },
  {
   "cell_type": "markdown",
   "metadata": {},
   "source": [
    "Did you get all three questions correct? If not, do try again! :)"
   ]
  },
  {
   "cell_type": "markdown",
   "metadata": {},
   "source": [
    "## Special Operation\n",
    "\n",
    "A simple short note here before we proceed. There are situations where we may want to reassign a variable with itself plus some constant (let's say 20). In such situation, we may write the code as ```my_var = my_var + 20```.<br>\n",
    "\n",
    "Usually this should be alright. But if the variable name becomes longer, it might be annoying to deal with. So what can we do about it?<br>\n",
    "\n",
    "Python has introduced an elegant solution - the use of <i>special operator</i>. Instead of the above, one may write the code as ```my_var += 20```. This achieves the same results.<br>\n",
    "\n",
    "In fact this can be applied to all other arithmetic operators:\n",
    "- ```+=```: summing to current value and reassigning back to the variable\n",
    "- ```-=```: deducting to current value and reassigning back to the variable\n",
    "- ```*=```: multiplying to current value and reassigning back to the variable\n",
    "- ```/=```: dividing to current value and reassigning back to the variable\n",
    "\n",
    "This will soon prove to be useful in later part of the walkthrough."
   ]
  },
  {
   "cell_type": "markdown",
   "metadata": {},
   "source": [
    "<br><br>\n",
    "<a href='#BTT'>Back to Top</a><br>\n",
    "<br>\n",
    "<center><i>Caden @ Finsinyur © 2021</i></center>\n",
    "\n",
    "---\n"
   ]
  },
  {
   "cell_type": "markdown",
   "metadata": {},
   "source": [
    "<a id='Boolean'></a>\n",
    "# Boolean Type and Operations\n",
    "\n",
    "Boolean type is a simple binary type with values ```True``` and ```False```. \n",
    "\n",
    "## Type Conversion\n",
    "\n",
    "Before we progress, this is a good opportunity to review type conversion. In Python, we can easily change the type of a variable from one to another by simply calling a type change function. A type change function is simply the type name followed by a parenthesis. For example, changing the type of variable ```var``` to:\n",
    "- integer: ```int(var)```\n",
    "- float: ```float(var)```\n",
    "- string: ```str(var)```\n",
    "- list: ```list(var)```\n",
    "- boolean: ```bool(var)```\n",
    "\n",
    "The list above is surely not exhaustive. One would also need to note that not all type change is legal."
   ]
  },
  {
   "cell_type": "code",
   "execution_count": null,
   "metadata": {},
   "outputs": [],
   "source": [
    "# Changing an integer to a float\n",
    "int_var = 12\n",
    "float_var = float(int_var)\n",
    "\n",
    "print('integer variable:', int_var,' -> float variable:', float_var)"
   ]
  },
  {
   "cell_type": "code",
   "execution_count": null,
   "metadata": {},
   "outputs": [],
   "source": [
    "# Change a float to a string\n",
    "string_var = str(float_var)\n",
    "\n",
    "print('Variable has changed from ', type(float_var), ' to', type(string_var))"
   ]
  },
  {
   "cell_type": "markdown",
   "metadata": {},
   "source": [
    "<a id='C4'></a>\n",
    "<b>Challenge 4 - Changing string to float</b><br>\n",
    "\n",
    "Consider the following two type conversion. Could you tell which one is possible and which is not?<br>\n",
    "\n",
    "1. ```float('Hello World')```\n",
    "2. ```float(False)```\n",
    "\n",
    "Double click <b>here</b> for solution.\n",
    "<!--\n",
    "1. Error message is triggered. By rule of thumb, if the string is not a number - e.g. `10`, it can neither convert into a float nor an integer, as there is no equivalence.\n",
    "2. float(False) can be converted into 0.0. This is due to the fact that all zeros and empty variables are consider as 'False' in boolean conversion. More on this right in the next sub-section.\n",
    "-->"
   ]
  },
  {
   "cell_type": "code",
   "execution_count": null,
   "metadata": {
    "scrolled": true
   },
   "outputs": [],
   "source": []
  },
  {
   "cell_type": "code",
   "execution_count": null,
   "metadata": {},
   "outputs": [],
   "source": []
  },
  {
   "cell_type": "markdown",
   "metadata": {},
   "source": [
    "## True or False?\n",
    "\n",
    "In Python, by default all other types can be converted into boolean - ```True``` or ```False```.<br>\n",
    "By rule of thumb, all non-empty sequence and collection types, and non-zero numerics will be converted to ```True```.<br>\n",
    "<br>\n",
    "```True```: ```1```, ```2.0```, ```'Hello World'```, ```[1, 2]```<br>\n",
    "```False```: ```0.0```, ```0```, ```None```, ```[]```, ```{}```, ```\"\"```<br>\n",
    "<br>\n",
    "\n",
    "<a id='C5'></a>\n",
    "<b>Challenge 5 - Empty string? True or False</b><br>\n",
    "Test it out - what is the result of ```bool(' ')```? ```True``` or ```False```?<br>\n",
    "<br>\n",
    "Double click <b>here</b> for solution.\n",
    "\n",
    "<!--\n",
    "Answer: True.\n",
    "This is a visual trick. It is true that all empty sequences are consider 'False'. However, this is a string with 1 element = whitespace. It is not considered empty in programming context.\n",
    "-->"
   ]
  },
  {
   "cell_type": "code",
   "execution_count": null,
   "metadata": {},
   "outputs": [],
   "source": []
  },
  {
   "cell_type": "markdown",
   "metadata": {},
   "source": [
    "## Comparison Operators\n",
    "\n",
    "### Assignment and Equivalence\n",
    "\n",
    "One of the operations we need to do extensively is comparison. The most fundamental form of comparison is finding equivalence. Technically, equivalence is denoted by an 'equal' ```=``` sign.\n",
    "<br><br>\n",
    "However, things get a bit confusing in programming. As we know, ```=``` is used for <i>assignment</i>, where we give a variable its value. If ```=``` is already used for assignment, what is equivalence then?\n",
    "<br><br>\n",
    "In python, equivalence is denoted by ```==```.\n",
    "<br><br>\n",
    "When comparing two variables/instances, the output is Boolean - True or False."
   ]
  },
  {
   "cell_type": "code",
   "execution_count": null,
   "metadata": {},
   "outputs": [],
   "source": [
    "# Try it out!\n",
    "1.0 == 1"
   ]
  },
  {
   "cell_type": "markdown",
   "metadata": {},
   "source": [
    "### More Comparison Operators\n",
    "\n",
    "When comes to comparison, we are always interested not just in equivalence, but also relativity.<br>\n",
    "\n",
    "That includes:\n",
    "- less than ```<```\n",
    "- less than or equal to ```<=```\n",
    "- more than or equal to ```>```\n",
    "- more than ```>=```\n",
    "- not equal to ```!=```\n",
    "\n",
    "Likewise when comparing two variables, if the conditon is met the output is ```True```. Otherwise, it is ```False```."
   ]
  },
  {
   "cell_type": "code",
   "execution_count": null,
   "metadata": {},
   "outputs": [],
   "source": [
    "# Examples: Comparison operators\n",
    "\n",
    "val1 = 10\n",
    "val2 = 7.8\n",
    "val3 = 13.2\n",
    "val4 = 10\n",
    "\n",
    "print('val1 is less than val2.', val1 < val2)\n",
    "print('val1 is less than or equal to val4.', val1 <= val4)\n",
    "print('val3 is more than val2.', val3 > val2)\n",
    "print('val1 is more than or equal to val3.', val1 >= val2)\n",
    "print('val1 is not equal to val4.', val1 != val4)"
   ]
  },
  {
   "cell_type": "markdown",
   "metadata": {},
   "source": [
    "### Logical Operators\n",
    "\n",
    "Logical operators are usually used with boolean values, and are used to decide the conclusion of the truth (True or False) when presented with more than one boolean value. There are 3 types of logical operators, namely ```and```, ```or``` and ```not```.<br>\n",
    "\n",
    "The ```and``` operator compares two boolean values, and if both are ```True``` then it returns an ultimate truth that is ```True```.<br>\n",
    "\n",
    "The ```or``` operator compares two boolean values and returns ```True``` as long as at least one of the two boolean values is ```True```.<br>\n",
    "\n",
    "The ```not``` operator is a <b>negation</b> operator. It reverses the truth of the expression it encapsulates.<br>\n",
    "\n",
    "Below table succinctly summarizes the logical operation.\n",
    "\n",
    "\n",
    "<img src=\"img/logic1.png\" alt=\"Drawing\" style=\"width: 800px;\"/>"
   ]
  },
  {
   "cell_type": "code",
   "execution_count": null,
   "metadata": {},
   "outputs": [],
   "source": [
    "# Try it yourself!"
   ]
  },
  {
   "cell_type": "markdown",
   "metadata": {},
   "source": [
    "<a id='C6'></a>\n",
    "<b>Challenge 6 - Logic Test!</b><br>\n",
    "Could you solve the following?<br>\n",
    "Given ```a = 20``` and ```b = 30```,<br>\n",
    "<br>\n",
    "```a >= 20 and not b > 1000```<br>\n",
    "<br>\n",
    "```not(a == 100) and b < 1000``` <br>\n",
    "<br>\n",
    "```a + b == 100 or a < 1000 or a - b > 0``` <br>\n",
    "<br>\n",
    "```a - b < 10 and a * b > 100 and a + b == 60 or b / a == 1 ```"
   ]
  },
  {
   "cell_type": "code",
   "execution_count": null,
   "metadata": {},
   "outputs": [],
   "source": []
  },
  {
   "cell_type": "markdown",
   "metadata": {},
   "source": [
    "Feeling stuck? <i>Hint: Try googling for the order of precedence in logical operation.</i><br>\n",
    "<br>\n",
    "Double click <b>here</b> for solution.\n",
    "\n",
    "<!--\n",
    "Solution:\n",
    "True\n",
    "True\n",
    "True\n",
    "False\n",
    "\n",
    "Order of precedence for logical operation: not -> and -> or\n",
    "-->"
   ]
  },
  {
   "cell_type": "markdown",
   "metadata": {},
   "source": [
    "To address the 'not' operator - basically 'not' only applies to comparison operation directly beside it, and does not encapsulate the entire chunk of operation. It is true that there is an order of hierarchy, though with simple examples it may not matter that much. Nonetheless I highly recommend using parenthesis with 'not' in order to not confuse oneself"
   ]
  },
  {
   "cell_type": "markdown",
   "metadata": {},
   "source": [
    "<a href='#BTT'>Back to Top</a><br>\n",
    "<br><br>\n",
    "<center><i>Caden @ Finsinyur © 2021</i></center>\n",
    "\n",
    "---"
   ]
  },
  {
   "cell_type": "markdown",
   "metadata": {},
   "source": [
    "<a id='Class and Object'></a>\n",
    "\n",
    "# Recall: Class and Object\n",
    "\n",
    "Almost everything in Python is an <i>object</i> with <i>properties</i> and <i>methods</i>.<br>\n",
    "\n",
    "<img src=\"img/class_and_object.png\" alt=\"Drawing\" style=\"width: 800px;\"/>\n",
    "\n",
    "- Class: the Blueprint, a general layout for objects under the same category - e.g. a blueprint of vehicles\n",
    "- Object: A specific instance of a class - e.g. a taxi, a bus\n",
    "- Attributes: Properties of an Object - e.g. wheels, windshield, doors, pedals\n",
    "- Methods: Functionalities of the object - e.g. accelerate, brake, signaling\n",
    "\n",
    "<a href='#BTT'>Back to Top</a><br>\n",
    "<br><br>\n",
    "<center><i>Caden @ Finsinyur © 2021</i></center>\n",
    "\n",
    "---\n"
   ]
  },
  {
   "cell_type": "markdown",
   "metadata": {},
   "source": [
    "<a id='String'></a>\n",
    "\n",
    "\n",
    "# String Data Types and Operations\n",
    "\n",
    "A <i>string</i> is essentially a <i>sequence</i> of characters. It is a built-in Python class. Other built-in classes are integers (int), floats (float), and other built-in data types we will cover in this course.<br>\n",
    "\n",
    "Since it is a class, there must be methods associated with it. How do we tell what those are? Simply, there are two ways:\n",
    "- Google, this will lead you to the documentation (more on this later), which provides a full list of the methods available\n",
    "- Using the dir() function, as follows\n",
    "\n",
    "## Some common string methods"
   ]
  },
  {
   "cell_type": "code",
   "execution_count": null,
   "metadata": {},
   "outputs": [],
   "source": [
    "print(dir(str))"
   ]
  },
  {
   "cell_type": "markdown",
   "metadata": {},
   "source": [
    "One incredible knowledge source for this topic is: https://www.w3schools.com/python/python_ref_string.asp.\n",
    "\n",
    "From the list of methods above, we are particularly interested in:\n",
    "- ```.format()```: adding a variable into the string, at position annotated with '{}'\n",
    "- ```.isalnum()```: checking if the string is alphanumeric, i.e. A-Z, a-z, 1-0\n",
    "- ```.isalpha()```: checking if the string is alphabet only, i.e. A-Z, a-z\n",
    "- ```.isnumeric()```: checking if the string is numeric only, i.e. 1-0\n",
    "- ```.islower()```: checking if the string is entirely lowercased, e.g. 'hello world'\n",
    "- ```.isupper()```: checking if the string is entirely uppercased, e.g. 'HELLO WORLD'\n",
    "- ```.istitle()```: checking if the string is camel cased, e.g. 'Hello World'\n",
    "- ```.lower()```: changing the casing of the string to all lowercased, i.e. 'Hello World' -> 'hello world'\n",
    "- ```.upper()```: changing the casing of the string to all uppercased, i.e. 'Hello World' -> 'HELLO WORLD'\n",
    "- ```.lstrip()```: remove whitespace on left-end of the string\n",
    "- ```.rstrip()```: remove whitespace on the right-end of the string\n",
    "- ```.split()```: splitting a string by a delimiter - default is a whitespace, user can define which delimiter to use by defining it within the bracket\n",
    "\n",
    "Note: Methods with names like ```_[a-z]_``` are known as <i>private</i> methods. These methods are important for the class, but does not have any useful functionality for users.<br>\n",
    "\n",
    "In our vehicle example, an gas exhaust system may be viewed as a private method. It is essentialy to ensure the engine works well, but as drivers we don't use them actively.<br>\n",
    "\n",
    "Here, we can ignore all methods with this naming convention. Read more on this here: https://hackernoon.com/understanding-the-underscore-of-python-309d1a029edc"
   ]
  },
  {
   "cell_type": "markdown",
   "metadata": {},
   "source": [
    "## Diving into String Methods\n",
    "\n",
    "Here, we shall briefly look into some common methods used in programming\n",
    "- Playing with cases\n",
    "- Playing with strips\n",
    "- Playing with split\n"
   ]
  },
  {
   "cell_type": "code",
   "execution_count": null,
   "metadata": {},
   "outputs": [],
   "source": [
    "# Playing with cases\n",
    "string1 = 'Hello World'\n",
    "\n",
    "lower_case = string1.lower()\n",
    "upper_case = string1.upper()\n",
    "\n",
    "print('The lower case of the string is \"{}\".'.format(lower_case))\n",
    "print('The upper case of the string is \"{}\".'.format(upper_case))"
   ]
  },
  {
   "cell_type": "code",
   "execution_count": null,
   "metadata": {},
   "outputs": [],
   "source": [
    "# Playing with strips\n",
    "string2 = \" Hello World \"\n",
    "\n",
    "left_stripped = string2.lstrip()\n",
    "right_stripped = string2.rstrip()\n",
    "\n",
    "print('After stripping the left, we have \"{}\".'.format(left_stripped))\n",
    "print('After stripping the right, we have \"{}\".'.format(right_stripped))"
   ]
  },
  {
   "cell_type": "markdown",
   "metadata": {},
   "source": [
    "<b>Playing with Split</b><br>\n",
    "\n",
    "Splitting a string is straightforward, but we inevitably have to introduce a concept ahead of time - list.<br>\n",
    "A list is essentially a sequence type that contains one or more <i>elements</i> - more on this later.<br>\n",
    "\n",
    "using a ```.split()``` method allows us to a full string into smaller portions, and all these small portions will be saved as collection and assigned to a variable as a list. By default, the computer recognises whitespaces as the <i>split points</i>. As users, we can determine the split points by defining the delimiter inside the method, as seen below.<br>\n",
    "\n",
    "Common delimiters include and not limited to:\n",
    "- comma ,\n",
    "- semi-colon :\n",
    "- new-line \\n"
   ]
  },
  {
   "cell_type": "code",
   "execution_count": null,
   "metadata": {},
   "outputs": [],
   "source": [
    "# Playing with split\n",
    "string3 = \"Hello, World\"\n",
    "\n",
    "print('Using split (default), we get an output which is a list as follows: {}.'.format(string3.split()))\n",
    "print('Using split (delimited by comma), we get an output which is a list as follows: {}.'.format(string3.split(',')))"
   ]
  },
  {
   "cell_type": "markdown",
   "metadata": {},
   "source": [
    "## Slice it up!\n",
    "\n",
    "String is a sequence type, and that being said we can break it down into sub-sequence. So how do we go about that?<br>\n",
    "\n",
    "As a sequence type, it is made up of elements. Likewise, string is a sequence made up by the characters. Its length is equal to the number of characters.\n",
    "\n",
    "Imagine a string as a literal string, you can cut it up into pieces and extract the right, mid or left sections. Similarly, you can combine two strings into one.<br>\n",
    "\n",
    "\n",
    "In the following exercise, we will discover how to:\n",
    "- Obtain the length (i.e. the number of elements) in a string\n",
    "- Extract the first element in a string\n",
    "- Slicing out first half of the string\n",
    "- Slicing out second half of the string"
   ]
  },
  {
   "cell_type": "code",
   "execution_count": null,
   "metadata": {},
   "outputs": [],
   "source": [
    "# Playing with slicing\n",
    "my_string = 'Architects of Trusted Markets'\n",
    "length_my_string = len(my_string)\n",
    "print('The length of my string is {}.'.format(length_my_string))\n",
    "\n",
    "# In Python, a sequence is 0-indexed. This implies that the first position in the sequence is marked by index '1'\n",
    "first_element = my_string[0]\n",
    "print('The first element in my string is \"{}\".'.format(first_element))\n",
    "\n",
    "# Getting the first half of the string\n",
    "mid_index = int(length_my_string/2)\n",
    "first_half = my_string[0:mid_index]\n",
    "print('The first half of the string is \"{}\".'.format(first_half))\n",
    "\n",
    "# Getting the first half of the string\n",
    "second_half = my_string[mid_index:]\n",
    "print('The second half of the string is \"{}\".'.format(second_half))\n",
    "\n",
    "# Concatenating second_half and first_half\n",
    "print('Stitching second half and first half of the string gives \"{}\".'.format(second_half+first_half))"
   ]
  },
  {
   "cell_type": "markdown",
   "metadata": {},
   "source": [
    "By now you would have discovered that to do slicing, we need to identify a <i>start point</i> and an <i>end point</i>. In fact, as a whole, a slicing operation has three parts:\n",
    "\n",
    "$$\\text{String}[\\text{Start}:\\text{End}:\\text{No. of Steps}]$$\n",
    "\n",
    "<img src=\"img/slice.png\" alt=\"Drawing\" style=\"width: 600px;\"/>"
   ]
  },
  {
   "cell_type": "markdown",
   "metadata": {},
   "source": [
    "## Concatenating a string\n",
    "\n",
    "Another word for \"concatenate\" is simply \"link\". Sometimes, we would like to merge multiple variables together into a single line of output.<br>\n",
    "<br>\n",
    "To concatenate two strings together, we use ```+``` as shown in the previous example.<br>\n",
    "<br>\n",
    "One needs to note that in Python, ```+``` is only recognised as a string concatenator if all variables involved are of 'string' type.<br>\n",
    "<br>\n",
    "<b>Note: When prompting user input, the data type assigned to input value is automatically a string. Therefore if you are prompting for a numerical input, it is important to do type conversion into integer and float before operation.</b>\n"
   ]
  },
  {
   "cell_type": "code",
   "execution_count": null,
   "metadata": {},
   "outputs": [],
   "source": [
    "# Try it yourself! What happens if you run the code below?\n",
    "# second_half + 1"
   ]
  },
  {
   "cell_type": "markdown",
   "metadata": {},
   "source": [
    "<a id='C7'></a>\n",
    "<b>Challenge 7 - Playing with strings</b><br>\n",
    "<br>\n",
    "With the given string variable, try to achieve the output as shown in the comment <b>using methods (excluding split) and/or slicing only</b>.<br>\n",
    "\n",
    "Double click <b>here</b> for solution.\n",
    "\n",
    "<!--\n",
    "Copy and paste the code snippets below. Please not that these are merely suggested solutions.\n",
    "There can be multiple solutions to each question.\n",
    "\n",
    "my_string = 'Humpty Dumpty sat on a wall'\n",
    "# Humpty Dumpty\n",
    "my_string[:13]\n",
    "\n",
    "# hUMPTY dUMPTY SAT ON A WALL\n",
    "my_string.swapcase()\n",
    "\n",
    "# HumptyDumptysatonawall\n",
    "my_string.replace(' ','')\n",
    "\n",
    "# llaw a no tas ytpmuD ytpmuH\n",
    "my_string[-1::-1]\n",
    "\n",
    "# Hmt upysto  al\n",
    "my_string[::2]\n",
    "-->"
   ]
  },
  {
   "cell_type": "code",
   "execution_count": null,
   "metadata": {},
   "outputs": [],
   "source": [
    "my_string = 'Humpty Dumpty sat on a wall'\n",
    "# Humpty Dumpty\n",
    "\n",
    "\n",
    "# hUMPTY dUMPTY SAT ON A WALL\n",
    "\n",
    "\n",
    "# HumptyDumptysatonawall\n",
    "\n",
    "\n",
    "# llaw a no tas ytpmuD ytpmuH\n",
    "\n",
    "\n",
    "# Hmt upysto  al\n",
    "\n"
   ]
  },
  {
   "cell_type": "markdown",
   "metadata": {},
   "source": [
    "<a href='#BTT'>Back to Top</a><br>\n",
    "<br>\n",
    "<center><i>Caden @ Finsinyur © 2021</i></center>\n",
    "\n",
    "---"
   ]
  },
  {
   "cell_type": "markdown",
   "metadata": {},
   "source": [
    "<a id='Lists'></a>\n",
    "# Lists and Tuples\n",
    "\n",
    "The second sequence we shall discuss here is the List. Lists are collections of elements, which can be of different types (including list in a list).<br><br>\n",
    "\n",
    "As with all other sequences in Python, the list index starts with 0. <br>\n",
    "\n",
    "| String | List | Tuple |\n",
    "| --- | --- | --- |\n",
    "| A sequence of characters | A sequence of various data types | A sequence of various data types |\n",
    "| Encapsulated by '' or \"\" | Encapsulated by [] | Encapsulated by () |\n",
    "| Index starts at 0 | Index starts at 0 | Index starts at 0 |\n",
    "| Elements are immutable | Elements are mutable | Elements are immutable |\n",
    "<br>\n",
    "\n",
    "Mutability refers to the ability to change an element within a sequence. <br><br>\n",
    "\n",
    "## Some common list methods"
   ]
  },
  {
   "cell_type": "code",
   "execution_count": null,
   "metadata": {
    "scrolled": true
   },
   "outputs": [],
   "source": [
    "print(dir(list))"
   ]
  },
  {
   "cell_type": "markdown",
   "metadata": {},
   "source": [
    "From the list of methods above, we are particularly interested in:\n",
    "- ```.append()```: Add a single element to the end of the list\n",
    "- ```.copy()```: returns a copy of the list\n",
    "- ```.count(elem)```: takes in 1 input; returns the number of times that input appears within the list \n",
    "- ```.extend([elem])```: takes in 1 input (also a list); extends the existing list with the input list attached to the end\n",
    "- ```.index(elem)```: returns the index (i.e. position) of the element of interest (input) in the list; it searches for the first instance the element appears in the list and returns the position\n",
    "- ```.insert(idx, elem)```: inserts element elem into the $i^{th}$ position in the list; the list increases in length as a result\n",
    "- ```.remove(elem)```: removes the element of interest from the list; it searches for the first instance the element appears in the list and removes that instance\n",
    "- ```.reverse()```: reverses the position of the list; the first element becomes the last and vice versa\n",
    "- ```.sort(key, reverse)```: sorts the list. By default the sort is in ascending order. ```.sort()``` takes in two optional parameters - <b>key</b> (function that defines how sorting should be done) and <b>reverse</b> (if True, list is sorted in descending order)\n",
    "\n",
    "It is important to note that above methods do not return an output. Instead, it changes the list properties directly.<br>\n",
    "Implication: When calling the methods, one need not reassign the output back to the list. I.e.<br>\n",
    "Do: ```lists.method()``` and not ```lists = lists.method()```"
   ]
  },
  {
   "cell_type": "markdown",
   "metadata": {},
   "source": [
    "## Diving into List Methods\n",
    "\n",
    "Here, we shall briefly look into some common methods used in programming\n",
    "- Manipulating the list\n",
    "- Searching elements in the list\n",
    "- Sorting the list\n"
   ]
  },
  {
   "cell_type": "markdown",
   "metadata": {},
   "source": [
    "### Making a copy\n",
    "\n",
    "Before that, let's try making a copy of the original list"
   ]
  },
  {
   "cell_type": "code",
   "execution_count": null,
   "metadata": {},
   "outputs": [],
   "source": [
    "# Define an original list\n",
    "my_list = ['1',1,'two', ('three', 3, '3'), 'vier']\n",
    "\n",
    "# Make a copy of my_list\n",
    "my_copy = my_list.copy()\n",
    "\n",
    "# Check results\n",
    "print('My original list is: ', my_list)\n",
    "print('My copied list is: ', my_copy)\n",
    "print('My copied list is identical to my original list', my_list == my_copy)"
   ]
  },
  {
   "cell_type": "markdown",
   "metadata": {},
   "source": [
    "### List manipulation"
   ]
  },
  {
   "cell_type": "code",
   "execution_count": null,
   "metadata": {},
   "outputs": [],
   "source": [
    "# 1. Append 5 to the end of my_list - add your code below\n",
    "\n",
    "print('My appended list is: ', my_list)"
   ]
  },
  {
   "cell_type": "code",
   "execution_count": null,
   "metadata": {},
   "outputs": [],
   "source": [
    "# 2. Extend the list by adding another list to my_list - add your code below\n",
    "new_list = [6, 'seben', '8', 10]\n",
    "\n",
    "print('My extended list is: ', my_list)"
   ]
  },
  {
   "cell_type": "code",
   "execution_count": null,
   "metadata": {},
   "outputs": [],
   "source": [
    "# 3. Insert 9.0 between '8' and 10 within my_list - add your code below\n",
    "\n",
    "print('Now, my list is: ', my_list)"
   ]
  },
  {
   "cell_type": "code",
   "execution_count": null,
   "metadata": {},
   "outputs": [],
   "source": [
    "# 4. Now, remove 1 from my_list\n",
    "\n",
    "print('After removing 1, my final list is: ', my_list)"
   ]
  },
  {
   "cell_type": "markdown",
   "metadata": {},
   "source": [
    "How did it go? By the end of the manipulation, you should get the following list:<br>\n",
    "\n",
    "```['1', 'two', ('three', 3, '3'), 'vier', 5, 6, 'seben', '8', 9.0, 10]```\n",
    "<br><br>\n",
    "Not quite there yet? Try again!<br>\n",
    "\n",
    "Double click <b>here</b> for solution.\n",
    "\n",
    "<!--\n",
    "# 1. Append 5 to the end of my_list - add your code below\n",
    "my_list.append(5) # solution 1\n",
    "print('My appended list is: ', my_list)\n",
    "\n",
    "# 2. Extend the list by adding another list to my_list - add your code below\n",
    "new_list = [6, 'seben', '8', 10]\n",
    "my_list.extend(new_list) # solution 2\n",
    "print('My extended list is: ', my_list)\n",
    "\n",
    "# 3. Insert 9.0 between 'seben' and '8' within my_list - add your code below\n",
    "my_list.insert(9, 9.0) # solution 3\n",
    "print('Now, my list is: ', my_list)\n",
    "\n",
    "# 4. Now, remove 1 from my_list\n",
    "my_list.remove(1) # solution 4\n",
    "print('After removing 1, my final list is: ', my_list)\n",
    "-->"
   ]
  },
  {
   "cell_type": "markdown",
   "metadata": {},
   "source": [
    "### Searching elements in a list\n",
    "\n",
    "Now that we have done with list manipulation, we would also like to be able to work with the elements within the list. Here we shall explore the following methods: ```.count()```, ```.index()```."
   ]
  },
  {
   "cell_type": "code",
   "execution_count": null,
   "metadata": {},
   "outputs": [],
   "source": [
    "# Before diving into this exercise, let's manipulate our copy to become a combination of itself and our previous list\n",
    "my_copy.extend(my_list)\n",
    "print(my_copy)"
   ]
  },
  {
   "cell_type": "code",
   "execution_count": null,
   "metadata": {},
   "outputs": [],
   "source": [
    "# To find out if an element exists at all in a list, we can use the keyword 'in'\n",
    "\n",
    "print(\"The element '1' appears in my_copy: \", '1' in my_copy) # returns a boolean - True or False"
   ]
  },
  {
   "cell_type": "code",
   "execution_count": null,
   "metadata": {
    "scrolled": true
   },
   "outputs": [],
   "source": [
    "# Count the number of instances '1', 1 and 9.0 appears\n",
    "print(\"The element '1' appeared {} time(s) in my_copy.\".format()) # insert code within .format()\n",
    "print(\"The element 1 appeared {} time(s) in my_copy.\".format()) # insert code within .format()\n",
    "print(\"The element 9.0 appeared {} time(s) in my_copy.\".format()) # insert code within .format()"
   ]
  },
  {
   "cell_type": "markdown",
   "metadata": {},
   "source": [
    "Double click <b>here</b> for solution.\n",
    "<!--\n",
    "# Count the number of instances '1', 1 and 9.0 appears\n",
    "print(\"The element '1' appeared {} time(s) in my_copy.\".format(my_copy.count('1'))) # insert code within format()\n",
    "print(\"The element 1 appeared {} time(s) in my_copy.\".format(my_copy.count(1))) # insert code within format()\n",
    "print(\"The element 9.0 appeared {} time(s) in my_copy.\".format(my_copy.count(9.0))) # insert code within format()\n",
    "-->"
   ]
  },
  {
   "cell_type": "code",
   "execution_count": null,
   "metadata": {},
   "outputs": [],
   "source": [
    "# Now, let's search for the element 'seben' in the list - could you get the position of 'seben' using methods?\n",
    "print(\"The element 'seben' can be found at index {} of my_copy.\".format()) # insert code within .format()"
   ]
  },
  {
   "cell_type": "markdown",
   "metadata": {},
   "source": [
    "Double click <b>here</b> for solution.\n",
    "\n",
    "<!--\n",
    "# Now, let's search for the element 'seben' in the list - could you get the position of 'seben' using methods?\n",
    "print(\"The element 'seben' can be found at index {} of my_copy.\".format(my_copy.index('seben'))) # insert code within .format()\n",
    "-->"
   ]
  },
  {
   "cell_type": "markdown",
   "metadata": {},
   "source": [
    "### Sorting a list\n",
    "\n",
    "Now, let's look at sorting. For simplicity, let's look at a new numeric list ```num_list```. Try to perform sorting using the list methods only."
   ]
  },
  {
   "cell_type": "code",
   "execution_count": null,
   "metadata": {},
   "outputs": [],
   "source": [
    "num_list = [20, 31, 21, 94, 37, 34, 23, 17]\n",
    "\n",
    "# Sort the list in ascending order\n",
    "print('The sorted list in ascending order is', ) # add your code after the comma \n",
    "\n",
    "# Sort the list in descending order\n",
    "print('The sorted list in descending order is', ) # add your code after the comma "
   ]
  },
  {
   "cell_type": "markdown",
   "metadata": {},
   "source": [
    "Double click <b>here</b> for solution.\n",
    "\n",
    "<!--\n",
    "# Sort the list in ascending order\n",
    "print('The sorted list in ascending order is', num_list.sort()) # add your code after the comma \n",
    "\n",
    "# Sort the list in descending order\n",
    "print('The sorted list in descending order is', num_list.sort(reverse = True)) # add your code after the comma \n",
    "-->"
   ]
  },
  {
   "cell_type": "markdown",
   "metadata": {},
   "source": [
    "## Slicing the list\n",
    "\n",
    "As with all sequence types, one can also slice the list. The slicing of the list is similar to slicing of strings. Do review slicing with the exercise below."
   ]
  },
  {
   "cell_type": "code",
   "execution_count": null,
   "metadata": {},
   "outputs": [],
   "source": [
    "# Playing with slicing\n",
    "slice_list = my_copy.copy()\n",
    "length_slice_list = \n",
    "print('The length of slice_list is {}.'.format())\n",
    "\n",
    "# Get the first element in the list\n",
    "first_element = slice_list[]\n",
    "print('The first element in slice_list is \"{}\".'.format(first_element))\n",
    "\n",
    "# Getting the first half of slice_list\n",
    "mid_index = \n",
    "first_half = slice_list[]\n",
    "print('The first half of slice_list is \"{}\".'.format(first_half))\n",
    "\n",
    "# Getting the first half of slice_list\n",
    "second_half = slice_list[]\n",
    "print('The second half of slice_list is \"{}\".'.format(second_half))\n",
    "\n",
    "# Concatenating second_half and first_half\n",
    "print('Stitching second half and first half of the string gives \"{}\".'.format())"
   ]
  },
  {
   "cell_type": "markdown",
   "metadata": {},
   "source": [
    "<a id='C8'></a>\n",
    "<b>Challenge 8 - A list of challenges</b><br>\n",
    "Try, with what you learnt from the above exercises and a bit of google search, to solve the follow problems."
   ]
  },
  {
   "cell_type": "code",
   "execution_count": null,
   "metadata": {},
   "outputs": [],
   "source": [
    "list_challenge = my_copy.copy()\n",
    "\n",
    "# 8.1. Try with a few lines of codes to retrieve the positions of 'vier' in list_challenge - knowing that vier appeared twice\n",
    "\n",
    "\n",
    "print('The first position is {0} and the second position is {1}.'.format(first_pos, second_pos))"
   ]
  },
  {
   "cell_type": "code",
   "execution_count": null,
   "metadata": {},
   "outputs": [],
   "source": [
    "# 8.2. Try removing all 'vier' for list_challenge\n",
    "\n",
    "\n",
    "print('Check: list_challenge no longer has any \"vier\": {}'.format('vier' not in list_challenge))\n",
    "print(list_challenge)"
   ]
  },
  {
   "cell_type": "code",
   "execution_count": null,
   "metadata": {},
   "outputs": [],
   "source": [
    "# For the next exercise, we will remove all integers from list_challenge\n",
    "# The below code is what we call a pythonic code - more on this will be shared in following sections.\n",
    "# Take note of how logic operator can be used in programming\n",
    "\n",
    "list_challenge = [i for i in list_challenge if (type(i) != int and type(i) != float)]\n",
    "print(list_challenge)"
   ]
  },
  {
   "cell_type": "code",
   "execution_count": null,
   "metadata": {},
   "outputs": [],
   "source": [
    "# 8.3. Try sorting the elements in list_challenge based on the length of the elements, in descending order\n",
    "\n",
    "print(list_challenge)"
   ]
  },
  {
   "cell_type": "markdown",
   "metadata": {},
   "source": [
    "Are the answers what you expect? Why and why not?<br><br>\n",
    "\n",
    "Double click <b>here</b> for solution.\n",
    "<!--\n",
    "list_challenge = my_copy.copy()\n",
    "\n",
    "# 8.1. Try with a few lines of codes to retrieve the positions of 'vier' in list_challenge - knowing that vier appeared twice\n",
    "first_pos = list_challenge.index('vier')\n",
    "second_pos = list_challenge[first_pos+1:].index('vier') + first_pos + 1\n",
    "print('The first position is {0} and the second position is {1}.'.format(first_pos, second_pos))\n",
    "\n",
    "# 8.2. Try removing all 'vier' for list_challenge\n",
    "list_challenge.pop(second_pos)\n",
    "list_challenge.pop(first_pos)\n",
    "\n",
    "print('Check: list_challenge no longer has any \"vier\": {}'.format('vier' not in list_challenge))\n",
    "print(list_challenge)\n",
    "\n",
    "# For the next exercise, we will remove all integers from list_challenge\n",
    "# The below code is what we call a pythonic code - more on this will be shared in following sections.\n",
    "# Take note of how logic operator can be used in programming\n",
    "\n",
    "type(list_challenge[-1]) != int or type(list_challenge[-1]) != float\n",
    "list_challenge = [i for i in list_challenge if (type(i) != int and type(i) != float)]\n",
    "print(list_challenge)\n",
    "\n",
    "# 8.3. Try sorting the elements in list_challenge based on the length of the elements, in descending order\n",
    "list_challenge.sort(key = len, reverse = True)\n",
    "print(list_challenge)\n",
    "-->"
   ]
  },
  {
   "cell_type": "markdown",
   "metadata": {},
   "source": [
    "<a href='#BTT'>Back to Top</a><br>\n",
    "<br>\n",
    "<center><i>Caden @ Finsinyur © 2021</i></center>\n",
    "\n",
    "---"
   ]
  },
  {
   "cell_type": "markdown",
   "metadata": {},
   "source": [
    "<a id='Dictionaries'></a>\n",
    "# Dictionaries\n",
    "\n",
    "Dictionaries are like lists, but more general. Each element of a dictionary comes in pairs - a key and a value, also known as a key-value pair. Its elements are encapsulated by a pair of curly brackets ```{'key':'value'}```.\n",
    "<br><br>\n",
    "The key can be of any of the following types: ```string```, ```int```, ```float```. <br>\n",
    "The value can be of any data types.\n",
    "<br><br>\n",
    "To initiate a dictionary, you can either:\n",
    "1. Initiate an empty dictionary: ```my_dict = {}``` or ```my_dict = dict()```\n",
    "2. Initiate the dictionary with its key-value pairs: ```my_dict = {'key1':'val1', 'key2':'val2'}```\n",
    "\n",
    "In order to access a specific value in a dictionary, we need to call the key, as follows: ```my_dict['key1']```<br>\n",
    "To extend the dictionary with more key-value pairs, simply assign the value to the dict: ```my_dict['key3'] = 'val3'```"
   ]
  },
  {
   "cell_type": "code",
   "execution_count": null,
   "metadata": {},
   "outputs": [],
   "source": [
    "# Handling dictionary\n",
    "my_info = {'Age':28, 'Gender': 'Male'} # Initiate dictionary\n",
    "my_info['Home Country'] = 'Singapore'\n",
    "my_info['Fav Hobbies'] = ['Reading', 'Coding', 'Gaming'] \n",
    "\n",
    "print(caden_info)"
   ]
  },
  {
   "cell_type": "code",
   "execution_count": null,
   "metadata": {},
   "outputs": [],
   "source": [
    "extract_info = input('What do you wish to know about me?': )"
   ]
  },
  {
   "cell_type": "code",
   "execution_count": null,
   "metadata": {},
   "outputs": [],
   "source": [
    "# Try running the previous cell and this one twice to see the effect when \n",
    "# 1. User types in a valid key (e.g. Age)\n",
    "# 2. User types in an invalid key (e.g. Height)\n",
    "\n",
    "print(my_info[extract_info])"
   ]
  },
  {
   "cell_type": "markdown",
   "metadata": {},
   "source": [
    "## Some common methods"
   ]
  },
  {
   "cell_type": "code",
   "execution_count": null,
   "metadata": {
    "scrolled": true
   },
   "outputs": [],
   "source": [
    "print(dir(dict))"
   ]
  },
  {
   "cell_type": "markdown",
   "metadata": {},
   "source": [
    "<a href='#BTT'>Back to Top</a><br>\n",
    "<br>\n",
    "<center><i>Caden @ Finsinyur © 2021</i></center>\n",
    "\n",
    "---"
   ]
  },
  {
   "cell_type": "markdown",
   "metadata": {},
   "source": [
    "<a id='Summary1'></a>\n",
    "# Summary - Data Types\n",
    "\n",
    "At this point, we have covered all essential knowledge on in-built data types of Python, including\n",
    "- Numeric (Integer, Float)\n",
    "- Boolean\n",
    "- String\n",
    "- Lists and Tuples\n",
    "- Dictionary\n",
    "\n",
    "We have also covered also the class and object concepts in Python\n",
    "- A class is the blueprint\n",
    "- An object is a instance of a class\n",
    "- An attribute is a properties associated to the object\n",
    "- A method is a functionality of the object\n",
    "\n",
    "We have introduced 8 different sets of challenges within this section. Give it a try to internalise the key concepts taught before proceeding to the next section.\n",
    "\n",
    "<a href='#BTT'>Back to Top</a><br>\n",
    "<br>\n",
    "<center><i>Caden @ Finsinyur © 2021</i></center>\n",
    "\n",
    "---"
   ]
  },
  {
   "cell_type": "markdown",
   "metadata": {},
   "source": [
    "<a id='Functions'></a>\n",
    "# Functions\n",
    "\n",
    "A function is a named sequence of statements that performs a computation. To put it into perspective, it can somewhat represent a machine and its existence is to only perform what it is built for.<br><br>\n",
    "\n",
    "Generally, one may categorize functions into some common types. Below are three general types of functions I can think of, accompanying with examples.<br><br>\n",
    "\n",
    "## A function that performs an action\n",
    "\n",
    "Such function is very basic. When given an input, it will perform its specialized task without modifying the input. An example would be a stereo speaker. With a given data (e.g. mp3 file), an electric signal is generated in the stereo speaker and converted into sound through vibrations from its diaphram. No changes is made on the mp3 file itself. Some examples of functions are:\n",
    "- ```print()```: broadcasting an input into the console\n",
    "- ```input()```: retrieves an user input and save as a variable\n",
    "\n",
    "## A function that changes the input\n",
    "\n",
    "Such function applies changes to the given input. One example would be a car washer. When you drive a dusty car into the car washer, the washer scrubs the car clean and returns a well-cleaned and shine car. Some examples of such functions are:\n",
    "- ```int()```: converts a variable type into integer\n",
    "- ```float()```: converts a variable type into float\n",
    "- ```str()```: convers a variable type int string\n",
    "- ```sorted()```: sorts a given list-type input (different from ```.sort()```)\n",
    "- ```sum()``` and any math operators: applies math operations\n",
    "\n",
    "<img src=\"img/function1.png\" alt=\"Drawing\" style=\"width: 600px;\"/>\n",
    "\n",
    "## A function that provides more information\n",
    "\n",
    "This group of functions is very similar to the first type. The only difference here is that this group of functions returns an intrinsic information of the input variable. For instance, when you step on the weighing scale, it returns you your weight. It does not modify you, nor does it do any action. Some examples are:\n",
    "- ```type()```: returns the type of the input variable\n",
    "- ```len()```: returns the length (number of elements) of a sequence data type\n",
    "- ```max()```: returns the maximum value within a sequence (highest number if sequence is numeric, otherwise largest based on unicode)\n",
    "\n",
    "<img src=\"img/function2.png\" alt=\"Drawing\" style=\"width: 600px;\"/>\n",
    "\n",
    "As you may have guessed it - functions are objects in Python!"
   ]
  },
  {
   "cell_type": "markdown",
   "metadata": {},
   "source": [
    "## Built-in vs User-defined functions\n",
    "\n",
    "Thus far, we have had encounters with built-in functions. These are functions that exist within Python basic library. However, what if we wish to come up with a customized machine to meet our own computational needs?<br>\n",
    "\n",
    "Python allow users to build user-defined functions. Functions follows the following template:<br>\n",
    "```\n",
    "def function_name(arg1, arg2):\n",
    "    statement1\n",
    "    statement2\n",
    "    statement3\n",
    "    \n",
    "    return output\n",
    "\n",
    "```\n",
    "\n",
    "Here, we can easily identify a few properties:\n",
    "- ```def``` keyword: This keyword helps the program to identify that there is a function being defined\n",
    "- ```function_name()```: Every function needs to have a name. For functions, a parenthesis must accompany the function name.\n",
    "- Arguments ```arg1, arg2```: Arguments are inputs for the function. The user can define as many inputs required as required. IF there are two arguments defined within the parenthesis, the function will expect two inputs to be provided when it is being called.\n",
    "- Indentation: An indentation helps to distinguish what's within the function and what's not. Typically indented with a 'TAB' or four whitespaces (for more professional programmers). \n",
    "- Executable statements: executable statements are written within the function based on what the function is supposed to perform.\n",
    "- ```return``` keyword: the return keyword helps to distinguish the output (which comes directly after it) from other executable statement. It also marks the end of the function."
   ]
  },
  {
   "cell_type": "code",
   "execution_count": null,
   "metadata": {},
   "outputs": [],
   "source": [
    "# Example: print_repeat\n",
    "# This function takes in a target, put it in the list and duplicate it based on the nbr_of_repeat\n",
    "\n",
    "def print_repeat(target, nbr_of_repeats):\n",
    "    output = [target] * nbr_of_repeats\n",
    "    \n",
    "    return output"
   ]
  },
  {
   "cell_type": "code",
   "execution_count": null,
   "metadata": {
    "scrolled": true
   },
   "outputs": [],
   "source": [
    "# Try running the above function with first arg = 'Hello' and second arg = 5\n",
    "print_repeat('Hello', 5)"
   ]
  },
  {
   "cell_type": "code",
   "execution_count": null,
   "metadata": {},
   "outputs": [],
   "source": [
    "# Try running the above function with only first arg = 'Hello'\n",
    "print_repeat('Hello')"
   ]
  },
  {
   "cell_type": "markdown",
   "metadata": {},
   "source": [
    "From our above examples, we can clearly see that when we defined two arguments in the function, the function would expect two arguments to be provided. Otherwise, it would throw an error message showing ```TypeError: print_repeat() missing 1 required positional argument:...```.<br>\n",
    "\n",
    "Perhaps we would like to have a default number of repeats such that we need not define the argument each time when we want to choose the default option. In this case, we may make ```nbr_of_repeats``` a <i>keyword argument</i>."
   ]
  },
  {
   "cell_type": "code",
   "execution_count": null,
   "metadata": {},
   "outputs": [],
   "source": [
    "# Example: print_repeat_kw\n",
    "# This function takes in a target, put it in the list and duplicate it based on the nbr_of_repeats.\n",
    "# Different from previous function, in this one the nbr_of_repeats is a keyword argument, where we define a default option.\n",
    "# Please note the '=' accompanying the keyword argument\n",
    "\n",
    "def print_repeat_kw(target, nbr_of_repeats = 2):\n",
    "    output = [target] * nbr_of_repeats\n",
    "    \n",
    "    return output"
   ]
  },
  {
   "cell_type": "code",
   "execution_count": null,
   "metadata": {},
   "outputs": [],
   "source": [
    "print_repeat_kw('Hello', nbr_of_repeats = 5)"
   ]
  },
  {
   "cell_type": "code",
   "execution_count": null,
   "metadata": {},
   "outputs": [],
   "source": [
    "print_repeat_kw('Hello')"
   ]
  },
  {
   "cell_type": "markdown",
   "metadata": {},
   "source": [
    "A keyword argument is simply an argument, but with an assigned default value. This is particularly useful (I use it a lot) when writing custom functions as it gives us some flexibility and reduces clutter if we apply non-default value occasionally. <b>It is important to note</b> that all keyword arguments must come after the normal arguments.<br><br>\n",
    "\n",
    "It is also recommended to assign non-default values to each keyword argument explicitly. When assigning arguments, each input are matched to each argument sequentially. If you have multiple keyword arguments, the program may erroneously assign the values to the wrong keyword argument, resulting in an error in computation.<br><br>\n",
    "\n",
    "### Example: Black-Scholes Option Pricing Model - Call option\n",
    "\n",
    "Below code and choice of function are purely for illustration purpose. Please do not be too bothered by the complexity of the formula, code, or the concept of options in general.\n",
    "\n",
    "---\n",
    "$$V_c(t,S) = S(t)N(d_1) - Ke^{-r(T-t)}N(d2)$$\n",
    "\n",
    "where\n",
    "$$d_1 = \\frac{log(\\frac{S(t)}{K})+ (r+\\frac{1}{2}\\sigma^2)(T-t)}{\\sigma \\sqrt{T-t}}$$\n",
    "$$d_2 = d_1 - \\sigma \\sqrt{T-t}$$\n",
    "\n",
    "- $V_c$: Call Value\n",
    "- $S(t)$: Spot Price\n",
    "- $K$: Strike Price\n",
    "- $r$: Risk-free rate\n",
    "- $\\sigma$: Implied volatility\n",
    "- $T-t$: Time to maturity\n",
    "- $N(\\cdot)$: Normal cumlative distribution function\n",
    "---\n",
    "\n",
    "```\n",
    "def black_scholes(strike_price, spot_price, risk_free_rate = 0.04, t_expiry = 0.25, implied_vola = 0.05, call = True):\n",
    "    ...\n",
    "```\n",
    "- ```strike_price```: the strike price of the option, an argument (1st postion, position precedes keyword argument)\n",
    "- ```spot_price```: the spot price of the underlying, an argument (2nd position, position precedes keyword argument)\n",
    "- ```risk_free_rate```: the risk-free rate of return, a keyword argument (3rd position)\n",
    "- ```t_expiry```: time to expiry (year), a keyword argument (4th position)\n",
    "- ```implied_vola```: implied volatility of the option, a keyword argument (5th position)\n",
    "- ```call```: if the option is a call option, then it is True. Otherwise, False. A keyword argument (5th position)\n",
    "\n",
    "Assuming we wish to price a call option with a spot price of \\\\$100, strike price of \\\\$105, risk free rate default, time to expiry as half a year, implied vola as 0.07 and call as default.<br>\n",
    "\n",
    "Good practice:\n",
    "```\n",
    "option_price = black_scholes(100, 105, t_expiry = 0.5, implied_vola = 0.07)\n",
    "\n",
    "```\n",
    "\n",
    "Bad practice:\n",
    "```\n",
    "option_price = black_scholes(100, 105, 0.5, 0.07)\n",
    "\n",
    "```\n",
    "\n",
    "Question: What do you think will happen in the bad practice?"
   ]
  },
  {
   "cell_type": "code",
   "execution_count": null,
   "metadata": {},
   "outputs": [],
   "source": [
    "# Sample code for Black-Scholes Model (Analytical Solution)\n",
    "import warnings\n",
    "warnings.filterwarnings(\"ignore\")\n",
    "\n",
    "import numpy as np\n",
    "from scipy.stats import norm\n",
    "\n",
    "def black_scholes(strike_price, spot_price, risk_free_rate = 0.04, t_expiry = 0.25, implied_vola = 0.05, call = True):\n",
    "    d1 = (np.log(spot_price)/strike_price + (risk_free_rate + 0.5*implied_vola**2)*t_expiry)/(implied_vola*np.sqrt(t_expiry))\n",
    "    d2 = d1 - implied_vola*np.sqrt(t_expiry)\n",
    "    \n",
    "    if call == True:\n",
    "        return spot_price*norm.cdf(d1) - strike_price*np.exp(-risk_free_rate*t_expiry)*norm.cdf(d2)\n",
    "    else:\n",
    "        return strike_price*np.exp(-risk_free_rate*t_expiry)*norm.cdf(-d2) - spot_price*norm.cdf(-d1) "
   ]
  },
  {
   "cell_type": "code",
   "execution_count": null,
   "metadata": {
    "scrolled": true
   },
   "outputs": [],
   "source": [
    "# Example: Good practice\n",
    "option_price_good = black_scholes(100, 105, t_expiry = 0.5, implied_vola = 0.07)\n",
    "print(option_price_good)"
   ]
  },
  {
   "cell_type": "code",
   "execution_count": null,
   "metadata": {},
   "outputs": [],
   "source": [
    "# Example: Bad practice\n",
    "option_price_bad = black_scholes(100, 105, 0.5, 0.07)\n",
    "print(option_price_bad)"
   ]
  },
  {
   "cell_type": "markdown",
   "metadata": {},
   "source": [
    "<a id='C9'></a>\n",
    "<b>Challenge 9 - Keyword Arguments</b>\n",
    "Modify above function ```print_repeat_kw()``` such that it takes in multiple arguments/ keyword arguments. This function should take in\n",
    "- 2 strings, one of which by default is 'Hello'\n",
    "- nbr_of_repeats, default is 2\n",
    "- a boolean argument ```whitespace``` to determine if space is required in-between repeats, by default is ```False```\n",
    "\n",
    "Example: If given one string ```'Caden'``` and ```whitespace = True```, the expected output should be:<br>\n",
    "```['Hello','Caden',' ','Hello', 'Caden', ' ']```"
   ]
  },
  {
   "cell_type": "code",
   "execution_count": null,
   "metadata": {},
   "outputs": [],
   "source": [
    "# Your code here\n",
    "\n",
    "\n",
    "print_repeat_kw('Caden', whitespace = True)"
   ]
  },
  {
   "cell_type": "markdown",
   "metadata": {},
   "source": [
    "Double click <b>here</b> for solution.\n",
    "<!--\n",
    "def print_repeat_kw(string1, string2 = 'Hello', nbr_of_repeats = 2, whitespace = False):\n",
    "    list_repeat = [string2, string1] + whitespace*[' ']\n",
    "    output = list_repeat * nbr_of_repeats\n",
    "    \n",
    "    return output\n",
    "\n",
    "print_repeat_kw('Caden', whitespace = True)\n",
    "-->"
   ]
  },
  {
   "cell_type": "markdown",
   "metadata": {},
   "source": [
    "## Global vs Local Variables\n",
    "\n",
    "We have thus far progressed really well in our journey learning about Python functions. One very important concept which we have yet to discuss is about the variables' existence in the program. So what exactly does it mean to be a <i>global</i> variables and how is it different from a <i>local</i> one.<br>\n",
    "\n",
    "### A Global Variable exists on the main body of the program, and can be called from any function\n",
    "When a variable is defined within the main script, it is known as the global variable. When the script is executed, the variable and its information is stored in memory. It can be referenced to within a function without explicitly assigned in the function."
   ]
  },
  {
   "cell_type": "code",
   "execution_count": null,
   "metadata": {},
   "outputs": [],
   "source": [
    "# Example, Global Variable\n",
    "my_global_var = 20\n",
    "\n",
    "def sum_and_divide(arg1, arg2):\n",
    "    my_local_var = my_global_var # notice we assign a global variable to a local variable without defining argument\n",
    "    my_local_var += arg1\n",
    "    my_local_var /= arg2\n",
    "    \n",
    "    return my_local_var\n",
    "\n",
    "print(sum_and_divide(12, 8))\n",
    "print(my_global_var) # No changes to global var\n",
    "print(my_local_var)"
   ]
  },
  {
   "cell_type": "markdown",
   "metadata": {},
   "source": [
    "## A Local Variable is one which exists within a function\n",
    "\n",
    "Notice how when we run our code above, we are unable to show what ```my_local_var``` value is? Typically, all variables defined within a function is known as a <i>local variable</i>. Local variables only exist during the execution of the function. Once the function is fully executed, the local variables will be wiped off the memory and can not be retrieved.<br>\n",
    "\n",
    "Therefore it is important that our function returns all necessary variables as outputs, and that these outputs are assigned to a global variable."
   ]
  },
  {
   "cell_type": "code",
   "execution_count": null,
   "metadata": {},
   "outputs": [],
   "source": [
    "# Example: return multiple outputs\n",
    "\n",
    "def all_arithmetic_ops(arg1, arg2):\n",
    "    summation = arg1 + arg2\n",
    "    difference = arg1 - arg2\n",
    "    multiplication = arg1 * arg2\n",
    "    division = arg1 / arg2\n",
    "    \n",
    "    return summation, difference, multiplication, division\n",
    "\n",
    "plus, minus, times, divide = all_arithmetic_ops(12, 8)\n",
    "print(plus, type(plus))\n",
    "\n",
    "bundle = all_arithmetic_ops(12, 8)\n",
    "print(bundle, type(bundle))"
   ]
  },
  {
   "cell_type": "markdown",
   "metadata": {},
   "source": [
    "A function can return multiple inputs. One may either assign all output into one global variable - which will become a tuple - or into equal number of global variables - which will adopt the type of each output."
   ]
  },
  {
   "cell_type": "markdown",
   "metadata": {},
   "source": [
    "<a id='C10'></a>\n",
    "<b>Challenge 10: Return all cases</b><br>\n",
    "Create a function which only accepts string type, and returns both upper and lower cases versions of the string. Include also a keyword argument that takes on a boolean value (True or False), with its default being ```False```. If this keyword argument is ```True```, the original version of the string will be included in the output. Otherwise it will be excluded.<br><br>\n",
    "\n",
    "Example: ```all_cases('Test', include = True)```<br>\n",
    "Output: 'Test', 'test', 'TEST'<br><br>\n",
    "\n",
    "Example: ```all_cases('Test')```<br>\n",
    "Output: 'test', 'TEST'"
   ]
  },
  {
   "cell_type": "code",
   "execution_count": null,
   "metadata": {},
   "outputs": [],
   "source": [
    "# Your code here\n",
    "def all_cases():\n",
    "    \n",
    "    return None"
   ]
  },
  {
   "cell_type": "code",
   "execution_count": null,
   "metadata": {},
   "outputs": [],
   "source": [
    "# Test 1\n",
    "all_cases('Test', include = True)"
   ]
  },
  {
   "cell_type": "code",
   "execution_count": null,
   "metadata": {},
   "outputs": [],
   "source": [
    "# Test 2\n",
    "all_cases('Test')"
   ]
  },
  {
   "cell_type": "markdown",
   "metadata": {},
   "source": [
    "Double click <b>here</b> for solution.\n",
    "<!--\n",
    "def all_cases(string, include = False):\n",
    "    lower_case = string.lower()\n",
    "    upper_case = string.upper()\n",
    "    output =  include*[string] +  [lower_case, upper_case]\n",
    "    return tuple(output)\n",
    "-->"
   ]
  },
  {
   "cell_type": "markdown",
   "metadata": {},
   "source": [
    "<a href='#BTT'>Back to Top</a><br>\n",
    "<br>\n",
    "\n",
    "<center><i>Caden @ Finsinyur © 2021</i></center>\n",
    "\n",
    "---"
   ]
  },
  {
   "cell_type": "markdown",
   "metadata": {},
   "source": [
    "<a id='Conditional'></a>\n",
    "# Conditional Statements\n",
    "\n",
    "One of the best benefits of programming is that we can write rules-based decision into a program and the program can then determine how an input should be managed. In Python, there are three basic types of conditional statements:\n",
    "- ```if```-```else```\n",
    "- ```if```-```elif```-```else```\n",
    "- Nested-ifs\n",
    "\n",
    "## Basic: ```if```-```else``` statement\n",
    "One important element of programming is the ability to write a rule-based selection - a style of coding where a block of code gets executed when a certain predefined condition is met.\n",
    "<br><br>\n",
    "One way conditional selection is done using ```if```-```else``` statement, as follows:<br>\n",
    "```\n",
    "if condition1:\n",
    "    executable1\n",
    "else:\n",
    "    executable2\n",
    "```"
   ]
  },
  {
   "cell_type": "code",
   "execution_count": null,
   "metadata": {},
   "outputs": [],
   "source": [
    "def check_length_of_name(name):\n",
    "    length_of_name = len(name)\n",
    "    \n",
    "    if length_of_name % 2 == 0:\n",
    "        print('Your name has even number of characters!')\n",
    "    else:\n",
    "        print('Your name has odd number of characters!')\n",
    "    \n",
    "    return None"
   ]
  },
  {
   "cell_type": "code",
   "execution_count": null,
   "metadata": {},
   "outputs": [],
   "source": [
    "check_length_of_name()"
   ]
  },
  {
   "cell_type": "markdown",
   "metadata": {},
   "source": [
    "## What if there are more conditions? ```if```-```elif```-```else``` statement\n",
    "When there are more than two conditions, more cases are required. For multiple conditions, we use the ```if```-```elif```(else if)-```else``` statement:<br><br>\n",
    "\n",
    "```\n",
    "if condition1:\n",
    "    executable1\n",
    "elif condition2:\n",
    "    executable2\n",
    "else:\n",
    "    executable3\n",
    "```"
   ]
  },
  {
   "cell_type": "code",
   "execution_count": null,
   "metadata": {},
   "outputs": [],
   "source": [
    "def check_number(num):\n",
    "    \n",
    "    if num > 0 and num % 2 == 0:\n",
    "        print('This is a positive, even number!')\n",
    "    elif num > 0 and num % 2 != 0:\n",
    "        print('This is a positive, odd number!')\n",
    "    else:\n",
    "        print('This is a non-positive number!')\n",
    "    \n",
    "    return None"
   ]
  },
  {
   "cell_type": "code",
   "execution_count": null,
   "metadata": {},
   "outputs": [],
   "source": [
    "check_number(-23)"
   ]
  },
  {
   "cell_type": "markdown",
   "metadata": {},
   "source": [
    "## If inside an If: nested-if statement\n",
    "\n",
    "While the example earlier works, it doesn't look so good. There are an overarching condition (n>0) which must be met for executable 1 and 2.\n",
    "\n",
    "In this case, it is better to use <i>nested-if</i> statement.\n",
    "\n",
    "```\n",
    "if precondition:\n",
    "    if condition1\n",
    "        executable1\n",
    "    else:\n",
    "        executable2\n",
    "else:<br>\n",
    "    executable3\n",
    "```"
   ]
  },
  {
   "cell_type": "code",
   "execution_count": null,
   "metadata": {},
   "outputs": [],
   "source": [
    "def check_number_nested(num):\n",
    "    \n",
    "    if num > 0:\n",
    "        if num % 2 == 0:\n",
    "            print('This is a positive, even number!')\n",
    "        else:\n",
    "            print('This is a positive, odd number!')\n",
    "    else:\n",
    "        print('This is a non-positive number!')\n",
    "    \n",
    "    return None"
   ]
  },
  {
   "cell_type": "code",
   "execution_count": null,
   "metadata": {},
   "outputs": [],
   "source": [
    "check_number_nested(23)"
   ]
  },
  {
   "cell_type": "markdown",
   "metadata": {},
   "source": [
    "<a id='C11'></a>\n",
    "<b>Challenge 11 - Getting my grades</b><br>\n",
    "Write a function to prompt for a score between 0.0 and 1.0. If the\n",
    "score is out of range or wrong type (neither integer nor float), print an error. If the score is between 0.0 and 1.0, print a\n",
    "grade using the following table:\n",
    "\n",
    "Score  $\\>$$\\>$   Grade<br>\n",
    "\\>= 0.95  $\\>$$\\>$  A+<br>\n",
    "\\>= 0.85  $\\>$$\\>$  A<br>\n",
    "\\>= 0.80  $\\>$$\\>$  A-<br>\n",
    "\\>= 0.60  $\\>$$\\>$  B<br>\n",
    "\\>= 0.50  $\\>$$\\>$  C<br>\n",
    "else   $\\>$$\\>$ $\\>$$\\>$  F<br>\n",
    "<br>\n",
    "\n",
    "Expected output:<br>\n",
    "```get_my_score(0.95)```<br>\n",
    "A+\n",
    "\n",
    "```get_my_score('perfect')```<br>\n",
    "Wrong Input\n",
    "\n",
    "```get_my_score('10.0')```<br>\n",
    "Bad score"
   ]
  },
  {
   "cell_type": "code",
   "execution_count": null,
   "metadata": {},
   "outputs": [],
   "source": [
    "def get_my_grade(score):\n",
    "    # Your code here\n",
    "    \n",
    "    return None"
   ]
  },
  {
   "cell_type": "code",
   "execution_count": null,
   "metadata": {},
   "outputs": [],
   "source": [
    "# Test 1\n",
    "get_my_grade(0.95)"
   ]
  },
  {
   "cell_type": "code",
   "execution_count": null,
   "metadata": {},
   "outputs": [],
   "source": [
    "# Test 2\n",
    "get_my_grade('perfect')"
   ]
  },
  {
   "cell_type": "code",
   "execution_count": null,
   "metadata": {},
   "outputs": [],
   "source": [
    "# Test 3\n",
    "get_my_grade(10)"
   ]
  },
  {
   "cell_type": "code",
   "execution_count": null,
   "metadata": {},
   "outputs": [],
   "source": [
    "# Test 4\n",
    "get_my_grade(0.55)"
   ]
  },
  {
   "cell_type": "markdown",
   "metadata": {},
   "source": [
    "Double click <b>here</b> for solution.\n",
    "<!--\n",
    "def get_my_grade(score):\n",
    "    if type(score) not in [int, float]:\n",
    "        print('Wrong Input')\n",
    "        return None\n",
    "    else:\n",
    "        if score > 1.0 or score < 0.0:\n",
    "            print('Bad Score')\n",
    "        elif score >= 0.95:\n",
    "            print('A+')\n",
    "        elif score >= 0.85:\n",
    "            print('A')\n",
    "        elif score >= 0.80:\n",
    "            print('A-')\n",
    "        elif score >= 0.6:\n",
    "            print('B')\n",
    "        elif score >= 0.5:\n",
    "            print('C')\n",
    "        else:\n",
    "            print('F')\n",
    "        return None\n",
    "-->"
   ]
  },
  {
   "cell_type": "markdown",
   "metadata": {},
   "source": [
    "<a href='#BTT'>Back to Top</a><br>\n",
    "<br>\n",
    "\n",
    "<center><i>Caden @ Finsinyur © 2021</i></center>\n",
    "\n",
    "---"
   ]
  },
  {
   "cell_type": "markdown",
   "metadata": {},
   "source": [
    "<a id='Iteration'></a>\n",
    "# Iteration\n",
    "\n",
    "Iteration/ Loop is one of the fundamental operations in programming. It allows user to automate repetitive, mundane tasks. \n",
    "\n",
    "For this basic walkthrough, we shall explore the following two types of loops:\n",
    "- ```while``` loop\n",
    "- ```for``` loop"
   ]
  },
  {
   "cell_type": "markdown",
   "metadata": {},
   "source": [
    "## ```while``` loop\n",
    "A ```while``` loop allows the code to iterate as long as a condition is met. There are typically two ways to use the while loop.<br><br>\n",
    "### 1. Using a ```while``` loop with a counter\n",
    "Sometimes, we only want to execute a chunk of codes for a known, finite number of time. So it makes sense to use a counter that increases/ decreases with each iteration, until the counter is greater/ smaller than the condition for the loop to be valid. Below is an example of a ```while``` loop with a counter."
   ]
  },
  {
   "cell_type": "code",
   "execution_count": null,
   "metadata": {},
   "outputs": [],
   "source": [
    "# 1. Using a while loop with a counter\n",
    "i = 5\n",
    "\n",
    "print('Counting down to launch...')\n",
    "\n",
    "while i > 0:\n",
    "    print(i)\n",
    "    i -= 1\n",
    "    \n",
    "print('Take off!')"
   ]
  },
  {
   "cell_type": "markdown",
   "metadata": {},
   "source": [
    "### 2. Using a ```while``` loop with a switch\n",
    "Unlike a counter, a switch is binary on-off. In some situation, it is easier to use a boolean variable to activate and deactivate a loop than using a counter. There is no hard rule on which implementation to adopt, it usually depends on the user's preference. Of course, there are cases where it makes more sense to use one over the other. <br>\n",
    "Below is the implementation of the switch method using the same example as above."
   ]
  },
  {
   "cell_type": "code",
   "execution_count": null,
   "metadata": {},
   "outputs": [],
   "source": [
    "# 2. Using a while loop with a switch\n",
    "i = True\n",
    "n = 5\n",
    "\n",
    "print('Counting down to launch...')\n",
    "while i == True:\n",
    "    print(n)\n",
    "    n -= 1\n",
    "    i = bool(n)\n",
    "    \n",
    "print('Take off!')"
   ]
  },
  {
   "cell_type": "markdown",
   "metadata": {},
   "source": [
    "What do you think of the two methods? For each method, could you think of some advantages and disadvantages? Which do you prefer?<br><br>\n",
    "\n",
    "### The Problem of an Infinite Loop\n",
    "\n",
    "One possible problem you may encounter when implementing a ```while``` loop is the likelihood of chancing upon an <i>infinite</i> loop. An infinite loop occurs when the code is stuck to running the same code over and over again, because it can never meet the condition for it to stop.<br>\n",
    "\n",
    "There are many scenarios that can result in this, but the most obvious one is a code error when one forgets to include discounting the counter. Observe in our first ```while``` loop example, we need to deduct 1 to ```i``` in each iteration in order for it to reach zero, which is the stopping condition. So if one forgets to do the discounting, infinite loop will occur and eventually crashing your program.<br>\n",
    "\n",
    "So if there a way for us to avoid infinite loop? Surely! You may want to consider a ```for``` loop!"
   ]
  },
  {
   "cell_type": "markdown",
   "metadata": {},
   "source": [
    "### ```for``` loop\n",
    "\n",
    "Like a while loop, a ```for``` loop iterates and executes the same code. The difference, however, is that a ```for``` loop looks into a collection (list, dictionary, etc) and a ```while``` loop works on a condition.\n",
    "\n",
    "So for instance, it is easy to use a ```while``` loop to do a countdown like our above examples. But what if we want the countdown to be in words and not numbers? A ```while``` loop may not be most ideal (though still possible), a ```for``` loop over a list of words may be better."
   ]
  },
  {
   "cell_type": "code",
   "execution_count": null,
   "metadata": {},
   "outputs": [],
   "source": [
    "# 1. Using a for loop\n",
    "iter_list = ['Five','Four','Three','Two','One']\n",
    "print('Counting down to launch...')\n",
    "for item in iter_list:\n",
    "    print(item)\n",
    "print('Take off!')"
   ]
  },
  {
   "cell_type": "markdown",
   "metadata": {},
   "source": [
    "Give it a try! Can you use a ```while``` loop to replicate the above example?"
   ]
  },
  {
   "cell_type": "code",
   "execution_count": null,
   "metadata": {},
   "outputs": [],
   "source": [
    "# Replicate above example using while loop"
   ]
  },
  {
   "cell_type": "markdown",
   "metadata": {},
   "source": [
    "How about replicating the first ```while``` loop example using a ```for``` loop? Here we need to make use of a function ```range()```.<br><br> The ```range()``` function returns a sequence of numbers, starting from 0 by default, and increments by 1 (by default), and stops before a specified number.\n",
    "\n",
    "```range(start, stop, step)```:\n",
    "- ```start```: Optional. An integer number specifying at which position to start. Default is 0\n",
    "- ```stop```: Required. An integer number specifying at which position to stop (not included).\n",
    "- ```step```: Optional. An integer number specifying the incrementation. Default is 1"
   ]
  },
  {
   "cell_type": "code",
   "execution_count": null,
   "metadata": {},
   "outputs": [],
   "source": [
    "# Replicating first while loop example using for loop\n",
    "for i in range(5,0, -1):\n",
    "    print(i)\n",
    "    \n",
    "print('Take off!')"
   ]
  },
  {
   "cell_type": "markdown",
   "metadata": {},
   "source": [
    "<a href='#BTT'>Back to Top</a><br>\n",
    "<br>\n",
    "\n",
    "<center><i>Caden @ Finsinyur © 2021</i></center>\n",
    "\n",
    "---"
   ]
  },
  {
   "cell_type": "markdown",
   "metadata": {},
   "source": [
    "<a id='ConditionAndLoop'></a>\n",
    "# The Perfect Marriage - Conditional Iterative Statements\n",
    "\n",
    "One benefit of applying programming is the prospects of \n",
    "- Applying rules-based decisions onto inputs and get relevant outputs\n",
    "- Repeating steps and processes automatically over large sets of inputs\n",
    "\n",
    "By applying conditional statements iteratively, we would be able to achieve the above two objectives concurrently. In fact, most programs would be required to achieve both objectives in order to be functional - at bare minimum.<br>\n",
    "\n",
    "Below is a simple example of how this can be done."
   ]
  },
  {
   "cell_type": "code",
   "execution_count": null,
   "metadata": {},
   "outputs": [],
   "source": [
    "# Example - checking the number of vowels in a given string\n",
    "given_string = 'Mary had a little lamb.'\n",
    "num_of_vowels = 0\n",
    "\n",
    "for alphabet in given_string:\n",
    "    if alphabet.lower() in ['a','e','i','o','u']:\n",
    "        num_of_vowels += 1\n",
    "        \n",
    "print('The given string has a total of {} vowel(s)!'.format(num_of_vowels))"
   ]
  },
  {
   "cell_type": "markdown",
   "metadata": {},
   "source": [
    "## Continue and Break\n",
    "\n",
    "Sometimes when we run a loop, we want to be able to skip an iteration, or escape the loop completely. To do so, we will utilise the ```continue``` and ```break``` statements.\n",
    "\n",
    "```continue``` is used when one wishes to skip an iteration that does not meet a certain requirement, while ```break``` allows one to escape the loop once a condition is met. See below chart for visual illustration.\n",
    "\n",
    "<img src=\"img/continue_and_break.png\" alt=\"Drawing\" style=\"width: 600px;\"/>\n",
    "\n",
    "Here are some possible use cases of such statements."
   ]
  },
  {
   "cell_type": "code",
   "execution_count": null,
   "metadata": {},
   "outputs": [],
   "source": [
    "# Example: print all alphabet, but skip all 'n'-multiple position, in the given string\n",
    "\n",
    "given_string = 'Mary had a little lamb.'\n",
    "n = 3\n",
    "i = 0\n",
    "\n",
    "while i < len(given_string):\n",
    "    if i % n != 0:\n",
    "        print(given_string[i])\n",
    "        i += 1\n",
    "    else:\n",
    "        i += 1\n",
    "        continue\n",
    "    print('-')"
   ]
  },
  {
   "cell_type": "code",
   "execution_count": null,
   "metadata": {},
   "outputs": [],
   "source": [
    "# Example: print all alphabet in the given string. If the current alphabet is the same as the previous one, force break\n",
    "\n",
    "given_string = 'Mary had a little lamb.'\n",
    "i = 0\n",
    "\n",
    "while i < len(given_string):\n",
    "    if i > 0:\n",
    "        if given_string[i].lower() != given_string[i-1].lower():\n",
    "            print(given_string[i])\n",
    "            i += 1\n",
    "        else:\n",
    "            break\n",
    "    else:\n",
    "        print(given_string[i])\n",
    "        i += 1"
   ]
  },
  {
   "cell_type": "markdown",
   "metadata": {},
   "source": [
    "<a id='C12'></a>\n",
    "<b>Challenge 12: Vowels and Consonants</b><br>\n",
    "In this challenge, write a function that takes a list of strings, counts the number of vowels, consonants and non-alphabets, and return the total number of vowels, consonants, and non-alphabets found in the given sample."
   ]
  },
  {
   "cell_type": "code",
   "execution_count": null,
   "metadata": {
    "scrolled": true
   },
   "outputs": [],
   "source": [
    "list_sample = ['Vowels', 'Consonants', '@lphab3t5', 'Pyth0n']\n",
    "\n",
    "def vowels_vs_consonants(list_sample):\n",
    "    vowels = 0\n",
    "    consonants = 0\n",
    "    others = 0\n",
    "\n",
    "    # Your code here\n",
    "    \n",
    "    return vowels, consonants, others\n",
    "\n",
    "vowels, consonants, others = vowels_vs_consonants(list_sample)\n",
    "\n",
    "print('Number of vowels: {0}\\nNumber of consonants: {1}\\nNumber of non-alphabets: {2}'.format(vowels, consonants, others))"
   ]
  },
  {
   "cell_type": "markdown",
   "metadata": {},
   "source": [
    "Double click <b>here</b> for solution.\n",
    "<!--\n",
    "list_sample = ['Vowels', 'Consonants', '@lphab3t5', 'Pyth0n']\n",
    "\n",
    "def vowels_vs_consonants(list_sample):\n",
    "    vowels = 0\n",
    "    consonants = 0\n",
    "    others = 0\n",
    "    \n",
    "    for item in list_sample:\n",
    "        for character in item:\n",
    "            if character.isalpha() == True:\n",
    "                if character.lower() in ['a', 'e', 'i', 'o', 'u']:\n",
    "                    vowels += 1\n",
    "                else:\n",
    "                    consonants += 1\n",
    "            else:\n",
    "                others += 1\n",
    "    \n",
    "    return vowels, consonants, others\n",
    "\n",
    "vowels, consonants, others = vowels_vs_consonants(list_sample)\n",
    "\n",
    "print('Number of vowels: {0}\\nNumber of consonants: {1}\\nNumber of non-alphabets: {2}'.format(vowels, consonants, others))\n",
    "\n",
    "-->"
   ]
  },
  {
   "cell_type": "markdown",
   "metadata": {},
   "source": [
    "<a href='#BTT'>Back to Top</a><br>\n",
    "<br>\n",
    "\n",
    "<center><i>Caden @ Finsinyur © 2021</i></center>\n",
    "\n",
    "---"
   ]
  },
  {
   "cell_type": "markdown",
   "metadata": {},
   "source": [
    "<a id='Summary2'></a>\n",
    "# Summary: Functions, Conditional Statements and Iterations\n",
    "\n",
    "At long last, we reached the end of our Practial Python Walkthrough - Apprenticeship Journey.<br>\n",
    "\n",
    "<b>Functions</b><br>\n",
    "In the previous section we have looked into how to create user-defined functions. User-defined functions allow us to create custom sets of operations which can be called by feeding in parameters - or <i>arguments</i> - and assigning the call to a variable. Arguments come in two types - a normal argument and a keyword argument (which one may set a default value to). The position of a normal argument precedes the keyword argument. A function may return one or more outputs.<br>\n",
    "\n",
    "Also, we distinguished the differences between a global and a local variable. A global variable is one that is defined in the main code body, and can be summoned inside or outside a function. A local variable, however, only exists within the function it resides. Once the function is executed, the memory of the local variable will be wiped off and cannot be retrieved again.<br><br>\n",
    "\n",
    "<b>Conditional Statements</b><br>\n",
    "It is essential in programming to write rules-based decisions such that the code can execute the correct set of instructions given the input. Here we introduced 3 types of conditional statements: ```if```-```else```, ```if```-```elif```-```else``` and nested-ifs. A simple ```if```-```else``` can only consider 2 conditions (binary), whereas the other two may consider multiple conditions (more than two).<br><br>\n",
    "\n",
    "<b>Iterations</b><br>\n",
    "Another important element of programming is the ability to repeat a certain set of operations. In the previous section we tested two types of iterations - the ```while``` loop and the ```for``` loop. The ```while``` loop works well with a counter or a switch, but may potentially run into an <i>infinite loop</i> problem. We also explored how we can implement both loops, and how both loops may essentially be applied to same problems. It is up to an individual's preference on which loop to use, though one loop may be more suitable than the other given situation.<br><br>\n",
    "\n",
    "<b>Conditional Iterative Statements</b><br>\n",
    "Lastly, we explored how one can execute both conditional statements and iterations together to bring maximum value of a program. We also explored the use of ```continue``` and ```break``` to have better control over the flow.<br><br>"
   ]
  },
  {
   "cell_type": "markdown",
   "metadata": {},
   "source": [
    "<a href='#BTT'>Back to Top</a><br>\n",
    "<br>\n",
    "\n",
    "<center><i>Caden @ Finsinyur © 2021</i></center>"
   ]
  }
 ],
 "metadata": {
  "kernelspec": {
   "display_name": "Python 3",
   "language": "python",
   "name": "python3"
  },
  "language_info": {
   "codemirror_mode": {
    "name": "ipython",
    "version": 3
   },
   "file_extension": ".py",
   "mimetype": "text/x-python",
   "name": "python",
   "nbconvert_exporter": "python",
   "pygments_lexer": "ipython3",
   "version": "3.8.5"
  }
 },
 "nbformat": 4,
 "nbformat_minor": 4
}
